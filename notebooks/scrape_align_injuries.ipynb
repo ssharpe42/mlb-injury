{
 "cells": [
  {
   "cell_type": "code",
   "execution_count": 40,
   "id": "13bf3c00-07e2-484d-b069-8648e8b374ba",
   "metadata": {},
   "outputs": [],
   "source": [
    "%reload_ext autoreload\n",
    "%autoreload 2"
   ]
  },
  {
   "cell_type": "code",
   "execution_count": 41,
   "id": "b907f047-a13f-4d01-b18f-28bec1976cb9",
   "metadata": {},
   "outputs": [],
   "source": [
    "import requests\n",
    "import pandas as pd\n",
    "import numpy as np\n",
    "import statcast\n",
    "import os\n",
    "import pathlib\n",
    "import logging\n",
    "\n",
    "# logging.basicConfig(level = logging.INFO)\n",
    "pd.options.display.max_columns = 100"
   ]
  },
  {
   "cell_type": "code",
   "execution_count": 42,
   "id": "a0a4de94-9663-4e6b-9cbf-fe8e510ddadb",
   "metadata": {},
   "outputs": [],
   "source": [
    "from injury.scrape.statsapi import scrape_il_data\n",
    "from injury.scrape.prosports import scrape_dtd_data"
   ]
  },
  {
   "cell_type": "markdown",
   "id": "3c48da9a-dd56-49c1-92de-34f44fe6a5da",
   "metadata": {},
   "source": [
    "### Query IL Data"
   ]
  },
  {
   "cell_type": "code",
   "execution_count": 128,
   "id": "7a5d2bc6-0428-4e2e-8a50-87fa78257da5",
   "metadata": {
    "tags": []
   },
   "outputs": [
    {
     "name": "stderr",
     "output_type": "stream",
     "text": [
      "INFO:injury.scrape.statsapi:Scraping IL data for 2012\n",
      "INFO:injury.scrape.statsapi:Scraping IL data for 2013\n",
      "INFO:injury.scrape.statsapi:Scraping IL data for 2014\n",
      "INFO:injury.scrape.statsapi:Scraping IL data for 2015\n",
      "INFO:injury.scrape.statsapi:Scraping IL data for 2016\n",
      "INFO:injury.scrape.statsapi:Scraping IL data for 2017\n",
      "INFO:injury.scrape.statsapi:Scraping IL data for 2018\n",
      "INFO:injury.scrape.statsapi:Scraping IL data for 2019\n",
      "INFO:injury.scrape.statsapi:Scraping IL data for 2020\n",
      "INFO:injury.scrape.statsapi:Scraping IL data for 2021\n",
      "INFO:injury.scrape.statsapi:Scraping IL data for 2022\n"
     ]
    }
   ],
   "source": [
    "start, end = 2012, 2022\n",
    "status_changes, teams = scrape_il_data(start, end + 1)"
   ]
  },
  {
   "cell_type": "code",
   "execution_count": 130,
   "id": "5c4ab8f1-f95e-417b-849a-45cdef954867",
   "metadata": {},
   "outputs": [],
   "source": [
    "if not os.path.exists(\"statsapi_data/\"):\n",
    "    os.mkdir(\"statsapi_data/\")\n",
    "status_changes.to_csv(f\"statsapi_data/status_changes{start}-{end}.csv\", index=False)\n",
    "teams.to_csv(f\"statsapi_data/teams{start}-{end}.csv\", index=False)"
   ]
  },
  {
   "cell_type": "markdown",
   "id": "0f15894a-1ab2-4471-82e1-e27e2dad849f",
   "metadata": {},
   "source": [
    "### Query DTD Data\n",
    "\n",
    "Takes a while so saves each year separately"
   ]
  },
  {
   "cell_type": "code",
   "execution_count": 131,
   "id": "d9154c5e-9816-4e12-ad5f-c407d3876c65",
   "metadata": {},
   "outputs": [
    {
     "name": "stderr",
     "output_type": "stream",
     "text": [
      "INFO:injury.scrape.prosports:Scraping DTD data for 2022\n"
     ]
    }
   ],
   "source": [
    "scrape_dtd_data(2022, 2022 + 1, path=\"prosports_data/\")"
   ]
  },
  {
   "cell_type": "markdown",
   "id": "7506ec13-442b-4efe-a163-4a1363c76aee",
   "metadata": {},
   "source": [
    "### Clean DTD Data"
   ]
  },
  {
   "cell_type": "code",
   "execution_count": 132,
   "id": "90cf7bd8-f08b-407d-9295-7c96a61b8e54",
   "metadata": {},
   "outputs": [],
   "source": [
    "from injury.preprocess.prosports import ProsportsCleaner"
   ]
  },
  {
   "cell_type": "code",
   "execution_count": 133,
   "id": "0f3a9a78-20cd-4b82-b0ee-0efa4653dcf0",
   "metadata": {},
   "outputs": [],
   "source": [
    "# Read data\n",
    "prosports = pd.concat(\n",
    "    [pd.read_csv(f) for f in pathlib.Path(\"prosports_data\").glob(\"prosports_*.csv\")]\n",
    ")\n",
    "teams = pd.read_csv(f\"statsapi_data/teams{start}-{end}.csv\")"
   ]
  },
  {
   "cell_type": "code",
   "execution_count": 134,
   "id": "b0cb3388-a3f6-4093-9e16-48905a58740c",
   "metadata": {
    "collapsed": true,
    "jupyter": {
     "outputs_hidden": true
    },
    "tags": []
   },
   "outputs": [
    {
     "name": "stderr",
     "output_type": "stream",
     "text": [
      "/Users/Sam/Desktop/Projects/injury/injury/preprocess/prosports.py:59: UserWarning: This pattern is interpreted as a regular expression, and has match groups. To actually get the groups, use str.extract.\n",
      "  has_abbrev = prosports.name.str.contains(\"([A-Z]|r)\\.\")\n",
      "/Users/Sam/Desktop/Projects/injury/injury/preprocess/prosports.py:65: SettingWithCopyWarning: \n",
      "A value is trying to be set on a copy of a slice from a DataFrame.\n",
      "Try using .loc[row_indexer,col_indexer] = value instead\n",
      "\n",
      "See the caveats in the documentation: https://pandas.pydata.org/pandas-docs/stable/user_guide/indexing.html#returning-a-view-versus-a-copy\n",
      "  prosports[\"name\"] = remove_accents(prosports[\"name\"]).str.lower()\n",
      "/Users/Sam/Desktop/Projects/injury/injury/preprocess/prosports.py:68: SettingWithCopyWarning: \n",
      "A value is trying to be set on a copy of a slice from a DataFrame.\n",
      "Try using .loc[row_indexer,col_indexer] = value instead\n",
      "\n",
      "See the caveats in the documentation: https://pandas.pydata.org/pandas-docs/stable/user_guide/indexing.html#returning-a-view-versus-a-copy\n",
      "  prosports[[\"name\", \"name2\"]] = prosports[\"name\"].str.split(\n",
      "/Users/Sam/Desktop/Projects/injury/injury/preprocess/prosports.py:68: SettingWithCopyWarning: \n",
      "A value is trying to be set on a copy of a slice from a DataFrame.\n",
      "Try using .loc[row_indexer,col_indexer] = value instead\n",
      "\n",
      "See the caveats in the documentation: https://pandas.pydata.org/pandas-docs/stable/user_guide/indexing.html#returning-a-view-versus-a-copy\n",
      "  prosports[[\"name\", \"name2\"]] = prosports[\"name\"].str.split(\n",
      "/Users/Sam/Desktop/Projects/injury/injury/preprocess/prosports.py:71: SettingWithCopyWarning: \n",
      "A value is trying to be set on a copy of a slice from a DataFrame.\n",
      "Try using .loc[row_indexer,col_indexer] = value instead\n",
      "\n",
      "See the caveats in the documentation: https://pandas.pydata.org/pandas-docs/stable/user_guide/indexing.html#returning-a-view-versus-a-copy\n",
      "  prosports[[\"name\", \"name2\"]] = prosports[[\"name\", \"name2\"]].apply(\n"
     ]
    }
   ],
   "source": [
    "pc = ProsportsCleaner(prosports, teams)\n",
    "dtd = pc.clean()"
   ]
  },
  {
   "cell_type": "markdown",
   "id": "7f2c5519-40e7-48b5-bd41-0a9abc5e22f4",
   "metadata": {},
   "source": [
    "### Align DTD Data to MLB ids"
   ]
  },
  {
   "cell_type": "code",
   "execution_count": 135,
   "id": "e30d74fb-cdae-46e4-994b-5d92980a7da4",
   "metadata": {},
   "outputs": [],
   "source": [
    "from injury.preprocess.prosports import AlignProsportsMLB"
   ]
  },
  {
   "cell_type": "code",
   "execution_count": 136,
   "id": "1893600b-ccc7-4990-9013-0cc638112b45",
   "metadata": {},
   "outputs": [
    {
     "name": "stderr",
     "output_type": "stream",
     "text": [
      "/Users/Sam/opt/miniconda3/envs/injury/lib/python3.8/site-packages/pandas/io/sql.py:761: UserWarning: pandas only support SQLAlchemy connectable(engine/connection) ordatabase string URI or sqlite3 DBAPI2 connectionother DBAPI2 objects are not tested, please consider using SQLAlchemy\n",
      "  warnings.warn(\n"
     ]
    }
   ],
   "source": [
    "db = statcast.db.Postgres()\n",
    "players = db.query(\"player.sql\", query_params={\"min_year\": 2012, \"max_year\": 2022})\n",
    "players.to_parquet(\"../data/players.parquet\")"
   ]
  },
  {
   "cell_type": "code",
   "execution_count": 137,
   "id": "3182880e-1755-4f93-b149-ffcba5560db1",
   "metadata": {},
   "outputs": [],
   "source": [
    "players = pd.read_parquet(\"../data/players.parquet\")\n",
    "apm = AlignProsportsMLB(dtd, players)\n",
    "matched_dtd = apm.run()"
   ]
  },
  {
   "cell_type": "code",
   "execution_count": 140,
   "id": "78f4a249-3551-452f-b5e3-f0d28ab140b3",
   "metadata": {},
   "outputs": [],
   "source": [
    "# matched_dtd.shape"
   ]
  },
  {
   "cell_type": "markdown",
   "id": "33466f32-6b0d-4cde-95ee-4cf85b6a0cbd",
   "metadata": {},
   "source": [
    "### Combine IL and DTD"
   ]
  },
  {
   "cell_type": "code",
   "execution_count": 144,
   "id": "d3e17b97-a307-4557-adad-4db5a8abcbad",
   "metadata": {},
   "outputs": [
    {
     "name": "stderr",
     "output_type": "stream",
     "text": [
      "/var/folders/6y/ttc306bd5rlc_xrt71tjyg7r0000gn/T/ipykernel_45553/2746471642.py:10: UserWarning: This pattern is interpreted as a regular expression, and has match groups. To actually get the groups, use str.extract.\n",
      "  il_df = status_changes[status_changes.notes.str.contains(r'the (\\d+)(\\s|-)day')]\n"
     ]
    }
   ],
   "source": [
    "status_changes = (\n",
    "    pd.read_csv(f\"statsapi_data/status_changes{start}-{end}.csv\")\n",
    "    .drop(columns=[\"resolutionDate\", \"id\"])\n",
    "    .rename(columns={\"description\": \"notes\"})\n",
    ")\n",
    "\n",
    "player_names = (\n",
    "    players[[\"player_id\", \"full_name\"]]\n",
    "    .drop_duplicates(\"player_id\")\n",
    "    .rename(columns={\"full_name\": \"name\"})\n",
    ")\n",
    "\n",
    "\n",
    "il_df = status_changes[status_changes.notes.str.contains(r\"the (\\d+)(\\s|-)day\")]\n",
    "il_df = il_df.merge(player_names, how=\"left\")\n",
    "il_df[\"dtd\"] = False\n",
    "matched_dtd[\"il_days\"] = 0"
   ]
  },
  {
   "cell_type": "code",
   "execution_count": 145,
   "id": "ca23bf62-11db-4ba1-8fd7-ebf671e4da51",
   "metadata": {},
   "outputs": [],
   "source": [
    "injuries = pd.concat([il_df, matched_dtd.drop(columns=[\"id\"])])\n",
    "injuries[\"date\"] = pd.to_datetime(injuries[\"date\"])\n",
    "injuries[\"activated\"] = injuries.notes.str.contains(\"activat\")\n",
    "injuries[\"transfer\"] = injuries.notes.str.contains(\"transfer\")"
   ]
  },
  {
   "cell_type": "code",
   "execution_count": 146,
   "id": "28ab5a91-7270-45e2-a80f-75da29a40863",
   "metadata": {},
   "outputs": [],
   "source": [
    "injuries.reset_index(drop=True).to_parquet(f\"../data/injuries{start}-{end}.parquet\")"
   ]
  },
  {
   "cell_type": "markdown",
   "id": "7746b4a0-95c0-44a8-8e8e-779400f76e0f",
   "metadata": {},
   "source": [
    "### Scratch"
   ]
  },
  {
   "cell_type": "code",
   "execution_count": 89,
   "id": "a36e85da-fbbd-4472-8e7b-f5cfae9cad1e",
   "metadata": {},
   "outputs": [],
   "source": [
    "import requests\n",
    "\n",
    "start = \"2015-01-01\"\n",
    "end = \"2017-12-01\"\n",
    "url = \"https://statsapi.mlb.com/api/v1/transactions?startDate={start}&endDate={end}\"\n",
    "results = requests.get(url.format(start=start, end=end))\n",
    "results = results.json()[\"transactions\"]"
   ]
  },
  {
   "cell_type": "code",
   "execution_count": 91,
   "id": "be5fe810-3664-4e8a-850e-a51e1ed3b88b",
   "metadata": {},
   "outputs": [
    {
     "data": {
      "text/plain": [
       "{'id': 213879,\n",
       " 'person': {'id': 502462,\n",
       "  'fullName': 'Ryan Kelly',\n",
       "  'link': '/api/v1/people/502462'},\n",
       " 'toTeam': {'id': 687,\n",
       "  'name': 'Gigantes de Carolina',\n",
       "  'link': '/api/v1/teams/687'},\n",
       " 'date': '2015-01-01',\n",
       " 'effectiveDate': '2015-01-01',\n",
       " 'resolutionDate': '2015-01-01',\n",
       " 'typeCode': 'ASG',\n",
       " 'typeDesc': 'Assigned',\n",
       " 'description': 'RHP Ryan Kelly assigned to Gigantes de Carolina.'}"
      ]
     },
     "execution_count": 91,
     "metadata": {},
     "output_type": "execute_result"
    }
   ],
   "source": [
    "# results[0]"
   ]
  },
  {
   "cell_type": "code",
   "execution_count": 92,
   "id": "923258fb-6550-4a50-9b64-8e2362971494",
   "metadata": {},
   "outputs": [
    {
     "data": {
      "text/plain": [
       "[{'id': 213889,\n",
       "  'person': {'id': 502304,\n",
       "   'fullName': 'David Carpenter',\n",
       "   'link': '/api/v1/people/502304'},\n",
       "  'fromTeam': {'id': 144,\n",
       "   'name': 'Atlanta Braves',\n",
       "   'link': '/api/v1/teams/144'},\n",
       "  'toTeam': {'id': 147,\n",
       "   'name': 'New York Yankees',\n",
       "   'link': '/api/v1/teams/147'},\n",
       "  'date': '2015-01-01',\n",
       "  'effectiveDate': '2015-01-01',\n",
       "  'typeCode': 'TR',\n",
       "  'typeDesc': 'Trade',\n",
       "  'description': 'Atlanta Braves traded LHP Chasen Shreve and RHP David Carpenter to New York Yankees for LHP Manny Banuelos.'},\n",
       " {'id': 228619,\n",
       "  'person': {'id': 502304,\n",
       "   'fullName': 'David Carpenter',\n",
       "   'link': '/api/v1/people/502304'},\n",
       "  'toTeam': {'id': 147,\n",
       "   'name': 'New York Yankees',\n",
       "   'link': '/api/v1/teams/147'},\n",
       "  'date': '2015-06-03',\n",
       "  'effectiveDate': '2015-06-03',\n",
       "  'resolutionDate': '2015-06-03',\n",
       "  'typeCode': 'DES',\n",
       "  'typeDesc': 'Designated for Assignment',\n",
       "  'description': 'New York Yankees designated RHP David Carpenter for assignment.'},\n",
       " {'id': 229679,\n",
       "  'person': {'id': 502304,\n",
       "   'fullName': 'David Carpenter',\n",
       "   'link': '/api/v1/people/502304'},\n",
       "  'fromTeam': {'id': 147,\n",
       "   'name': 'New York Yankees',\n",
       "   'link': '/api/v1/teams/147'},\n",
       "  'toTeam': {'id': 120,\n",
       "   'name': 'Washington Nationals',\n",
       "   'link': '/api/v1/teams/120'},\n",
       "  'date': '2015-06-11',\n",
       "  'effectiveDate': '2015-06-11',\n",
       "  'typeCode': 'TR',\n",
       "  'typeDesc': 'Trade',\n",
       "  'description': 'New York Yankees traded RHP David Carpenter to Washington Nationals for 2B Tony Renda.'},\n",
       " {'id': 229954,\n",
       "  'person': {'id': 502304,\n",
       "   'fullName': 'David Carpenter',\n",
       "   'link': '/api/v1/people/502304'},\n",
       "  'toTeam': {'id': 120,\n",
       "   'name': 'Washington Nationals',\n",
       "   'link': '/api/v1/teams/120'},\n",
       "  'date': '2015-06-12',\n",
       "  'effectiveDate': '2015-06-12',\n",
       "  'resolutionDate': '2015-06-12',\n",
       "  'typeCode': 'SC',\n",
       "  'typeDesc': 'Status Change',\n",
       "  'description': 'Washington Nationals activated RHP David Carpenter.'},\n",
       " {'id': 236553,\n",
       "  'person': {'id': 502304,\n",
       "   'fullName': 'David Carpenter',\n",
       "   'link': '/api/v1/people/502304'},\n",
       "  'toTeam': {'id': 120,\n",
       "   'name': 'Washington Nationals',\n",
       "   'link': '/api/v1/teams/120'},\n",
       "  'date': '2015-07-06',\n",
       "  'effectiveDate': '2015-07-06',\n",
       "  'resolutionDate': '2015-07-06',\n",
       "  'typeCode': 'SC',\n",
       "  'typeDesc': 'Status Change',\n",
       "  'description': 'Washington Nationals placed RHP David Carpenter on the paternity list.'},\n",
       " {'id': 237052,\n",
       "  'person': {'id': 502304,\n",
       "   'fullName': 'David Carpenter',\n",
       "   'link': '/api/v1/people/502304'},\n",
       "  'toTeam': {'id': 120,\n",
       "   'name': 'Washington Nationals',\n",
       "   'link': '/api/v1/teams/120'},\n",
       "  'date': '2015-07-09',\n",
       "  'effectiveDate': '2015-07-09',\n",
       "  'resolutionDate': '2015-07-09',\n",
       "  'typeCode': 'SC',\n",
       "  'typeDesc': 'Status Change',\n",
       "  'description': 'Washington Nationals activated RHP David Carpenter from the paternity list.'},\n",
       " {'id': 238238,\n",
       "  'person': {'id': 502304,\n",
       "   'fullName': 'David Carpenter',\n",
       "   'link': '/api/v1/people/502304'},\n",
       "  'toTeam': {'id': 120,\n",
       "   'name': 'Washington Nationals',\n",
       "   'link': '/api/v1/teams/120'},\n",
       "  'date': '2015-07-17',\n",
       "  'effectiveDate': '2015-07-12',\n",
       "  'resolutionDate': '2015-07-12',\n",
       "  'typeCode': 'SC',\n",
       "  'typeDesc': 'Status Change',\n",
       "  'description': 'Washington Nationals placed RHP David Carpenter on the 15-day disabled list retroactive to July 12, 2015. Right shoulder inflammation'},\n",
       " {'id': 242787,\n",
       "  'person': {'id': 502304,\n",
       "   'fullName': 'David Carpenter',\n",
       "   'link': '/api/v1/people/502304'},\n",
       "  'fromTeam': {'id': 120,\n",
       "   'name': 'Washington Nationals',\n",
       "   'link': '/api/v1/teams/120'},\n",
       "  'toTeam': {'id': 436,\n",
       "   'name': 'Fredericksburg Nationals',\n",
       "   'link': '/api/v1/teams/436'},\n",
       "  'date': '2015-08-19',\n",
       "  'effectiveDate': '2015-08-19',\n",
       "  'resolutionDate': '2015-08-19',\n",
       "  'typeCode': 'ASG',\n",
       "  'typeDesc': 'Assigned',\n",
       "  'description': 'Washington Nationals sent RHP David Carpenter on a rehab assignment to Potomac Nationals.'},\n",
       " {'id': 243059,\n",
       "  'person': {'id': 502304,\n",
       "   'fullName': 'David Carpenter',\n",
       "   'link': '/api/v1/people/502304'},\n",
       "  'fromTeam': {'id': 120,\n",
       "   'name': 'Washington Nationals',\n",
       "   'link': '/api/v1/teams/120'},\n",
       "  'toTeam': {'id': 547,\n",
       "   'name': 'Harrisburg Senators',\n",
       "   'link': '/api/v1/teams/547'},\n",
       "  'date': '2015-08-21',\n",
       "  'effectiveDate': '2015-08-21',\n",
       "  'resolutionDate': '2015-08-21',\n",
       "  'typeCode': 'ASG',\n",
       "  'typeDesc': 'Assigned',\n",
       "  'description': 'Washington Nationals sent RHP David Carpenter on a rehab assignment to Harrisburg Senators.'},\n",
       " {'id': 244424,\n",
       "  'person': {'id': 502304,\n",
       "   'fullName': 'David Carpenter',\n",
       "   'link': '/api/v1/people/502304'},\n",
       "  'toTeam': {'id': 120,\n",
       "   'name': 'Washington Nationals',\n",
       "   'link': '/api/v1/teams/120'},\n",
       "  'date': '2015-09-01',\n",
       "  'effectiveDate': '2015-09-01',\n",
       "  'resolutionDate': '2015-09-01',\n",
       "  'typeCode': 'SC',\n",
       "  'typeDesc': 'Status Change',\n",
       "  'description': 'Washington Nationals transferred RHP David Carpenter from the 15-day disabled list to the 60-day disabled list. Right shoulder inflammation'},\n",
       " {'id': 248927,\n",
       "  'person': {'id': 502304,\n",
       "   'fullName': 'David Carpenter',\n",
       "   'link': '/api/v1/people/502304'},\n",
       "  'toTeam': {'id': 120,\n",
       "   'name': 'Washington Nationals',\n",
       "   'link': '/api/v1/teams/120'},\n",
       "  'date': '2015-11-03',\n",
       "  'effectiveDate': '2015-11-03',\n",
       "  'resolutionDate': '2015-11-03',\n",
       "  'typeCode': 'SC',\n",
       "  'typeDesc': 'Status Change',\n",
       "  'description': 'Washington Nationals activated RHP David Carpenter from the 60-day disabled list.'},\n",
       " {'id': 250266,\n",
       "  'person': {'id': 502304,\n",
       "   'fullName': 'David Carpenter',\n",
       "   'link': '/api/v1/people/502304'},\n",
       "  'fromTeam': {'id': 120,\n",
       "   'name': 'Washington Nationals',\n",
       "   'link': '/api/v1/teams/120'},\n",
       "  'toTeam': {'id': 552, 'name': 'Syracuse Mets', 'link': '/api/v1/teams/552'},\n",
       "  'date': '2015-11-18',\n",
       "  'effectiveDate': '2015-11-18',\n",
       "  'typeCode': 'OUT',\n",
       "  'typeDesc': 'Outrighted',\n",
       "  'description': 'Washington Nationals sent RHP David Carpenter outright to Syracuse Chiefs.'},\n",
       " {'id': 250656,\n",
       "  'person': {'id': 502304,\n",
       "   'fullName': 'David Carpenter',\n",
       "   'link': '/api/v1/people/502304'},\n",
       "  'toTeam': {'id': 144, 'name': 'Atlanta Braves', 'link': '/api/v1/teams/144'},\n",
       "  'date': '2015-11-24',\n",
       "  'effectiveDate': '2015-11-24',\n",
       "  'resolutionDate': '2015-11-24',\n",
       "  'typeCode': 'SFA',\n",
       "  'typeDesc': 'Signed as Free Agent',\n",
       "  'description': 'Atlanta Braves signed free agent RHP David Carpenter to a minor league contract and invited him to spring training.'},\n",
       " {'id': 256046,\n",
       "  'person': {'id': 502304,\n",
       "   'fullName': 'David Carpenter',\n",
       "   'link': '/api/v1/people/502304'},\n",
       "  'toTeam': {'id': 144, 'name': 'Atlanta Braves', 'link': '/api/v1/teams/144'},\n",
       "  'date': '2016-03-05',\n",
       "  'effectiveDate': '2016-03-05',\n",
       "  'resolutionDate': '2016-03-05',\n",
       "  'typeCode': 'REL',\n",
       "  'typeDesc': 'Released',\n",
       "  'description': 'Atlanta Braves released RHP David Carpenter.'},\n",
       " {'id': 256699,\n",
       "  'person': {'id': 502304,\n",
       "   'fullName': 'David Carpenter',\n",
       "   'link': '/api/v1/people/502304'},\n",
       "  'toTeam': {'id': 139, 'name': 'Tampa Bay Rays', 'link': '/api/v1/teams/139'},\n",
       "  'date': '2016-03-11',\n",
       "  'effectiveDate': '2016-03-11',\n",
       "  'resolutionDate': '2016-03-11',\n",
       "  'typeCode': 'SFA',\n",
       "  'typeDesc': 'Signed as Free Agent',\n",
       "  'description': 'Tampa Bay Rays signed free agent RHP David Carpenter to a minor league contract and invited him to spring training.'},\n",
       " {'id': 256700,\n",
       "  'person': {'id': 502304,\n",
       "   'fullName': 'David Carpenter',\n",
       "   'link': '/api/v1/people/502304'},\n",
       "  'toTeam': {'id': 234, 'name': 'Durham Bulls', 'link': '/api/v1/teams/234'},\n",
       "  'date': '2016-03-11',\n",
       "  'effectiveDate': '2016-03-11',\n",
       "  'resolutionDate': '2016-03-11',\n",
       "  'typeCode': 'ASG',\n",
       "  'typeDesc': 'Assigned',\n",
       "  'description': 'RHP David Carpenter assigned to Durham Bulls.'},\n",
       " {'id': 258748,\n",
       "  'person': {'id': 502304,\n",
       "   'fullName': 'David Carpenter',\n",
       "   'link': '/api/v1/people/502304'},\n",
       "  'toTeam': {'id': 139, 'name': 'Tampa Bay Rays', 'link': '/api/v1/teams/139'},\n",
       "  'date': '2016-03-30',\n",
       "  'effectiveDate': '2016-03-30',\n",
       "  'resolutionDate': '2016-03-30',\n",
       "  'typeCode': 'REL',\n",
       "  'typeDesc': 'Released',\n",
       "  'description': 'Tampa Bay Rays released RHP David Carpenter.'},\n",
       " {'id': 265120,\n",
       "  'person': {'id': 502304,\n",
       "   'fullName': 'David Carpenter',\n",
       "   'link': '/api/v1/people/502304'},\n",
       "  'toTeam': {'id': 561, 'name': 'Salt Lake Bees', 'link': '/api/v1/teams/561'},\n",
       "  'date': '2016-05-10',\n",
       "  'effectiveDate': '2016-05-10',\n",
       "  'resolutionDate': '2016-05-10',\n",
       "  'typeCode': 'ASG',\n",
       "  'typeDesc': 'Assigned',\n",
       "  'description': 'RHP David Carpenter assigned to Salt Lake Bees.'},\n",
       " {'id': 265119,\n",
       "  'person': {'id': 502304,\n",
       "   'fullName': 'David Carpenter',\n",
       "   'link': '/api/v1/people/502304'},\n",
       "  'toTeam': {'id': 108,\n",
       "   'name': 'Los Angeles Angels',\n",
       "   'link': '/api/v1/teams/108'},\n",
       "  'date': '2016-05-10',\n",
       "  'effectiveDate': '2016-05-10',\n",
       "  'resolutionDate': '2016-05-10',\n",
       "  'typeCode': 'SFA',\n",
       "  'typeDesc': 'Signed as Free Agent',\n",
       "  'description': 'Los Angeles Angels signed free agent RHP David Carpenter to a minor league contract.'},\n",
       " {'id': 274341,\n",
       "  'person': {'id': 502304,\n",
       "   'fullName': 'David Carpenter',\n",
       "   'link': '/api/v1/people/502304'},\n",
       "  'toTeam': {'id': 561, 'name': 'Salt Lake Bees', 'link': '/api/v1/teams/561'},\n",
       "  'date': '2016-06-23',\n",
       "  'effectiveDate': '2016-06-23',\n",
       "  'resolutionDate': '2016-06-23',\n",
       "  'typeCode': 'REL',\n",
       "  'typeDesc': 'Released',\n",
       "  'description': 'Salt Lake Bees released RHP David Carpenter.'},\n",
       " {'id': 297769,\n",
       "  'person': {'id': 502304,\n",
       "   'fullName': 'David Carpenter',\n",
       "   'link': '/api/v1/people/502304'},\n",
       "  'toTeam': {'id': 139, 'name': 'Tampa Bay Rays', 'link': '/api/v1/teams/139'},\n",
       "  'date': '2017-01-26',\n",
       "  'effectiveDate': '2017-01-26',\n",
       "  'resolutionDate': '2017-01-26',\n",
       "  'typeCode': 'SFA',\n",
       "  'typeDesc': 'Signed as Free Agent',\n",
       "  'description': 'Tampa Bay Rays signed free agent RHP David Carpenter to a minor league contract and invited him to spring training.'},\n",
       " {'id': 297770,\n",
       "  'person': {'id': 502304,\n",
       "   'fullName': 'David Carpenter',\n",
       "   'link': '/api/v1/people/502304'},\n",
       "  'toTeam': {'id': 234, 'name': 'Durham Bulls', 'link': '/api/v1/teams/234'},\n",
       "  'date': '2017-02-10',\n",
       "  'effectiveDate': '2017-02-10',\n",
       "  'resolutionDate': '2017-02-10',\n",
       "  'typeCode': 'ASG',\n",
       "  'typeDesc': 'Assigned',\n",
       "  'description': 'RHP David Carpenter assigned to Durham Bulls.'},\n",
       " {'id': 303503,\n",
       "  'person': {'id': 502304,\n",
       "   'fullName': 'David Carpenter',\n",
       "   'link': '/api/v1/people/502304'},\n",
       "  'toTeam': {'id': 234, 'name': 'Durham Bulls', 'link': '/api/v1/teams/234'},\n",
       "  'date': '2017-04-04',\n",
       "  'effectiveDate': '2017-04-04',\n",
       "  'resolutionDate': '2017-04-04',\n",
       "  'typeCode': 'REL',\n",
       "  'typeDesc': 'Released',\n",
       "  'description': 'Durham Bulls released RHP David Carpenter.'},\n",
       " {'id': 325392,\n",
       "  'person': {'id': 502304,\n",
       "   'fullName': 'David Carpenter',\n",
       "   'link': '/api/v1/people/502304'},\n",
       "  'toTeam': {'id': 104,\n",
       "   'name': 'Jackson Generals',\n",
       "   'link': '/api/v1/teams/104'},\n",
       "  'date': '2017-07-21',\n",
       "  'effectiveDate': '2017-07-21',\n",
       "  'resolutionDate': '2017-07-21',\n",
       "  'typeCode': 'ASG',\n",
       "  'typeDesc': 'Assigned',\n",
       "  'description': 'RHP David Carpenter assigned to Jackson Generals.'},\n",
       " {'id': 325391,\n",
       "  'person': {'id': 502304,\n",
       "   'fullName': 'David Carpenter',\n",
       "   'link': '/api/v1/people/502304'},\n",
       "  'toTeam': {'id': 109,\n",
       "   'name': 'Arizona Diamondbacks',\n",
       "   'link': '/api/v1/teams/109'},\n",
       "  'date': '2017-07-21',\n",
       "  'effectiveDate': '2017-07-21',\n",
       "  'resolutionDate': '2017-07-21',\n",
       "  'typeCode': 'SFA',\n",
       "  'typeDesc': 'Signed as Free Agent',\n",
       "  'description': 'Arizona Diamondbacks signed free agent RHP David Carpenter to a minor league contract.'},\n",
       " {'id': 326820,\n",
       "  'person': {'id': 502304,\n",
       "   'fullName': 'David Carpenter',\n",
       "   'link': '/api/v1/people/502304'},\n",
       "  'fromTeam': {'id': 104,\n",
       "   'name': 'Jackson Generals',\n",
       "   'link': '/api/v1/teams/104'},\n",
       "  'toTeam': {'id': 2310, 'name': 'Reno Aces', 'link': '/api/v1/teams/2310'},\n",
       "  'date': '2017-07-30',\n",
       "  'effectiveDate': '2017-07-30',\n",
       "  'typeCode': 'ASG',\n",
       "  'typeDesc': 'Assigned',\n",
       "  'description': 'RHP David Carpenter assigned to Reno Aces from Jackson Generals.'},\n",
       " {'id': 330792,\n",
       "  'person': {'id': 502304,\n",
       "   'fullName': 'David Carpenter',\n",
       "   'link': '/api/v1/people/502304'},\n",
       "  'toTeam': {'id': 2310, 'name': 'Reno Aces', 'link': '/api/v1/teams/2310'},\n",
       "  'date': '2017-08-27',\n",
       "  'effectiveDate': '2017-08-27',\n",
       "  'resolutionDate': '2017-08-27',\n",
       "  'typeCode': 'SC',\n",
       "  'typeDesc': 'Status Change',\n",
       "  'description': 'Reno Aces placed RHP David Carpenter on the 7-day disabled list.'},\n",
       " {'id': 333931,\n",
       "  'person': {'id': 502304,\n",
       "   'fullName': 'David Carpenter',\n",
       "   'link': '/api/v1/people/502304'},\n",
       "  'toTeam': {'id': 2310, 'name': 'Reno Aces', 'link': '/api/v1/teams/2310'},\n",
       "  'date': '2017-09-29',\n",
       "  'effectiveDate': '2017-09-29',\n",
       "  'resolutionDate': '2017-09-29',\n",
       "  'typeCode': 'SC',\n",
       "  'typeDesc': 'Status Change',\n",
       "  'description': 'Reno Aces activated RHP David Carpenter from the 7-day disabled list.'}]"
      ]
     },
     "execution_count": 92,
     "metadata": {},
     "output_type": "execute_result"
    }
   ],
   "source": [
    "[x for x in results if \"person\" in x and x[\"person\"][\"id\"] == 502304]"
   ]
  },
  {
   "cell_type": "code",
   "execution_count": 12,
   "id": "3a08bfed-4aec-416f-9da2-62eba54ba38d",
   "metadata": {},
   "outputs": [],
   "source": [
    "# Align to prosports teams\n",
    "teams.loc[teams.team == \"ARI\", \"team_name\"] = \"Diamondbacks\""
   ]
  },
  {
   "cell_type": "code",
   "execution_count": 13,
   "id": "2794e707-0314-49b4-83f5-4a0abf6d5fb9",
   "metadata": {},
   "outputs": [
    {
     "name": "stderr",
     "output_type": "stream",
     "text": [
      "/var/folders/6y/ttc306bd5rlc_xrt71tjyg7r0000gn/T/ipykernel_13525/1141789034.py:25: UserWarning: This pattern is interpreted as a regular expression, and has match groups. To actually get the groups, use str.extract.\n",
      "  prosports.loc[prosports.name.str.contains(\"([A-Z]|r)\\.\"),\"name\"].str.replace(\"\\.\",\"\", regex = True)\n",
      "/var/folders/6y/ttc306bd5rlc_xrt71tjyg7r0000gn/T/ipykernel_13525/1141789034.py:24: UserWarning: This pattern is interpreted as a regular expression, and has match groups. To actually get the groups, use str.extract.\n",
      "  prosports.loc[prosports.name.str.contains(\"([A-Z]|r)\\.\"),\"name\"]= \\\n"
     ]
    }
   ],
   "source": [
    "# Clean up prosports data\n",
    "prosports.columns = prosports.columns.str.lower()\n",
    "prosports.rename(columns={\"team\": \"team_name\"}, inplace=True)\n",
    "\n",
    "\n",
    "# Merge\n",
    "prosports[\"date\"] = pd.to_datetime(prosports[\"date\"])\n",
    "prosports[\"year\"] = prosports[\"date\"].dt.year\n",
    "prosports = prosports.merge(teams, on=[\"year\", \"team_name\"], how=\"left\")\n",
    "prosports[\"activated\"] = prosports[\"relinquished\"].isnull()\n",
    "\n",
    "\n",
    "prosports[\"name\"] = np.where(\n",
    "    prosports[\"acquired\"].isnull(), prosports[\"relinquished\"], prosports[\"acquired\"]\n",
    ")\n",
    "prosports.drop(columns=[\"acquired\", \"relinquished\"], inplace=True)\n",
    "prosports[\"name\"] = prosports[\"name\"].str.replace(r\"[\\(\\[].*?[\\)\\]]\", \"\", regex=True)\n",
    "prosports[\"name\"] = prosports[\"name\"].str.replace(\"•\", \"\", regex=False)\n",
    "\n",
    "# remove non-names & empty notes\n",
    "prosports = prosports[\n",
    "    prosports[\"name\"].notnull() & prosports[\"name\"].str.contains(\"[a-z]\")\n",
    "]\n",
    "prosports = prosports[prosports[\"notes\"].notnull()]\n",
    "\n",
    "# replace abbrev\n",
    "prosports.loc[prosports.name.str.contains(\"([A-Z]|r)\\.\"), \"name\"] = prosports.loc[\n",
    "    prosports.name.str.contains(\"([A-Z]|r)\\.\"), \"name\"\n",
    "].str.replace(\"\\.\", \"\", regex=True)\n",
    "prosports[\"name\"] = remove_accents(prosports[\"name\"])\n",
    "\n",
    "# lower\n",
    "prosports[\"name\"] = prosports[\"name\"].str.lower()\n",
    "\n",
    "# split names\n",
    "prosports[[\"name\", \"name2\"]] = prosports[\"name\"].str.split(\"/\", expand=True)\n",
    "prosports[\"name\"] = prosports[\"name\"].str.strip()\n",
    "prosports[\"name2\"] = prosports[\"name2\"].str.strip()\n",
    "\n",
    "# dates\n",
    "prosports[\"date\"] = pd.to_datetime(prosports[\"date\"])\n",
    "prosports[\"dtd\"] = prosports.notes.str.contains(\"DTD\")\n",
    "\n",
    "# id\n",
    "prosports[\"id\"] = list(prosports.index)"
   ]
  },
  {
   "cell_type": "markdown",
   "id": "4d7198c1-20f4-4c8d-988c-e3d5c50a9d19",
   "metadata": {},
   "source": [
    "### Align MLB ids and names to DTD events"
   ]
  },
  {
   "cell_type": "code",
   "execution_count": 13,
   "id": "25e29df2-924b-40c3-ada3-3d658d5bcc6b",
   "metadata": {},
   "outputs": [
    {
     "name": "stderr",
     "output_type": "stream",
     "text": [
      "/Users/Sam/Desktop/Projects/injury/injury/preprocess/prosports.py:71: UserWarning: This pattern is interpreted as a regular expression, and has match groups. To actually get the groups, use str.extract.\n",
      "  has_abbrev = prosports.name.str.contains(\"([A-Z]|r)\\.\")\n",
      "/Users/Sam/Desktop/Projects/injury/injury/preprocess/prosports.py:77: SettingWithCopyWarning: \n",
      "A value is trying to be set on a copy of a slice from a DataFrame.\n",
      "Try using .loc[row_indexer,col_indexer] = value instead\n",
      "\n",
      "See the caveats in the documentation: https://pandas.pydata.org/pandas-docs/stable/user_guide/indexing.html#returning-a-view-versus-a-copy\n",
      "  prosports[\"name\"] = self._remove_accents(prosports[\"name\"]).str.lower()\n",
      "/Users/Sam/Desktop/Projects/injury/injury/preprocess/prosports.py:80: SettingWithCopyWarning: \n",
      "A value is trying to be set on a copy of a slice from a DataFrame.\n",
      "Try using .loc[row_indexer,col_indexer] = value instead\n",
      "\n",
      "See the caveats in the documentation: https://pandas.pydata.org/pandas-docs/stable/user_guide/indexing.html#returning-a-view-versus-a-copy\n",
      "  prosports[[\"name\", \"name2\"]] = prosports[\"name\"].str.split(\n",
      "/Users/Sam/Desktop/Projects/injury/injury/preprocess/prosports.py:80: SettingWithCopyWarning: \n",
      "A value is trying to be set on a copy of a slice from a DataFrame.\n",
      "Try using .loc[row_indexer,col_indexer] = value instead\n",
      "\n",
      "See the caveats in the documentation: https://pandas.pydata.org/pandas-docs/stable/user_guide/indexing.html#returning-a-view-versus-a-copy\n",
      "  prosports[[\"name\", \"name2\"]] = prosports[\"name\"].str.split(\n",
      "/Users/Sam/Desktop/Projects/injury/injury/preprocess/prosports.py:83: SettingWithCopyWarning: \n",
      "A value is trying to be set on a copy of a slice from a DataFrame.\n",
      "Try using .loc[row_indexer,col_indexer] = value instead\n",
      "\n",
      "See the caveats in the documentation: https://pandas.pydata.org/pandas-docs/stable/user_guide/indexing.html#returning-a-view-versus-a-copy\n",
      "  prosports[[\"name\", \"name2\"]] = prosports[[\"name\", \"name2\"]].apply(\n"
     ]
    }
   ],
   "source": [
    "# dtd = prosports[prosports[\"dtd\"]]\n",
    "\n",
    "pc = ProsportsCleaner(prosports, teams)\n",
    "dtd = pc.clean()"
   ]
  },
  {
   "cell_type": "code",
   "execution_count": 15,
   "id": "b2e6c629-1cef-4d15-8674-fc334ee65e47",
   "metadata": {},
   "outputs": [],
   "source": [
    "# db = statcast.db.Postgres()\n",
    "# players = db.query(\"player.sql\", query_params={\"min_year\":2012, \"max_year\":2021})\n",
    "# players.to_parquet(\"players.parquet\")"
   ]
  },
  {
   "cell_type": "code",
   "execution_count": 15,
   "id": "bc96df83-686b-4b95-9b50-0fbf236086c1",
   "metadata": {},
   "outputs": [],
   "source": [
    "players = pd.read_parquet(\"../data/players.parquet\")\n",
    "# Normalize player names for matching\n",
    "players[\"full_name\"] = (\n",
    "    players.name.apply(lambda x: x.split(\", \")[1])\n",
    "    + \" \"\n",
    "    + players.name.apply(lambda x: x.split(\", \")[0])\n",
    ")\n",
    "players[\"full_name\"] = remove_accents(players[\"full_name\"])\n",
    "\n",
    "players.loc[players.full_name.str.contains(\"([A-Z]|r)\\.\"), \"full_name\"] = players.loc[\n",
    "    players.full_name.str.contains(\"([A-Z]|r)\\.\"), \"full_name\"\n",
    "].str.replace(\"\\.\", \"\", regex=True)\n",
    "\n",
    "# remove middle initial\n",
    "players.loc[\n",
    "    players.full_name.str.contains(\"[A-Za-z]+ [A-Z] [A-Za-z]+\"), \"full_name\"\n",
    "] = players.full_name[\n",
    "    players.full_name.str.contains(\"[A-Za-z]+ [A-Z] [A-Za-z]+\")\n",
    "].apply(\n",
    "    lambda x: x.split(\" \")[0] + \" \" + x.split(\" \")[2]\n",
    ")\n",
    "\n",
    "players[\"lower_full_name\"] = players[\"full_name\"].str.lower()"
   ]
  },
  {
   "cell_type": "code",
   "execution_count": 19,
   "id": "3cc909c4-5199-440b-b006-8859d0de01b6",
   "metadata": {},
   "outputs": [],
   "source": [
    "from itertools import product\n",
    "\n",
    "injured_players = players[\n",
    "    players[\"lower_full_name\"].isin(dtd[\"name\"])\n",
    "    | players[\"lower_full_name\"].isin(dtd[\"name2\"])\n",
    "]\n",
    "\n",
    "date_range = pd.date_range(\"2012-01-01\", \"2022-05-01\")\n",
    "player_dt_rng = pd.DataFrame(\n",
    "    list(product(date_range, injured_players.player_id.unique())),\n",
    "    columns=[\"game_date\", \"player_id\"],\n",
    ")\n",
    "\n",
    "\n",
    "full_date_players = player_dt_rng.merge(\n",
    "    injured_players, how=\"left\", on=[\"player_id\", \"game_date\"]\n",
    ")\n",
    "\n",
    "full_date_players[\n",
    "    [\"name\", \"team\", \"lower_full_name\", \"full_name\"]\n",
    "] = full_date_players.groupby([\"player_id\"])[\n",
    "    [\"name\", \"team\", \"lower_full_name\", \"full_name\"]\n",
    "].bfill()\n",
    "\n",
    "full_date_players[\n",
    "    [\"name\", \"team\", \"lower_full_name\", \"full_name\"]\n",
    "] = full_date_players.groupby([\"player_id\"])[\n",
    "    [\"name\", \"team\", \"lower_full_name\", \"full_name\"]\n",
    "].ffill()\n",
    "\n",
    "all_teams = (\n",
    "    injured_players.groupby([\"player_id\", \"lower_full_name\"])[\"team\"]\n",
    "    .apply(lambda x: list(set(x)))\n",
    "    .reset_index(name=\"all_teams\")\n",
    ")\n",
    "\n",
    "full_date_players = full_date_players.merge(\n",
    "    all_teams, on=[\"player_id\", \"lower_full_name\"], how=\"left\"\n",
    ")"
   ]
  },
  {
   "cell_type": "code",
   "execution_count": 23,
   "id": "adbec997-8427-4904-9c1e-dd6437a5bb59",
   "metadata": {},
   "outputs": [
    {
     "data": {
      "text/plain": [
       "Timestamp('2012-03-28 00:00:00')"
      ]
     },
     "execution_count": 23,
     "metadata": {},
     "output_type": "execute_result"
    }
   ],
   "source": [
    "players.game_date.min()"
   ]
  },
  {
   "cell_type": "code",
   "execution_count": 203,
   "id": "3547ee0d-0d83-496f-a1ec-510d3558e717",
   "metadata": {},
   "outputs": [],
   "source": [
    "dtd_joined = dtd.merge(\n",
    "    full_date_players[\n",
    "        [\"game_date\", \"player_id\", \"lower_full_name\", \"full_name\", \"team\", \"all_teams\"]\n",
    "    ]\n",
    "    .drop_duplicates([\"game_date\", \"player_id\"])\n",
    "    .rename(columns={\"team\": \"team_x\"}),\n",
    "    left_on=[\"date\", \"name\"],\n",
    "    right_on=[\"game_date\", \"lower_full_name\"],\n",
    "    how=\"left\",\n",
    ").merge(\n",
    "    full_date_players[\n",
    "        [\"game_date\", \"player_id\", \"lower_full_name\", \"full_name\", \"team\", \"all_teams\"]\n",
    "    ]\n",
    "    .drop_duplicates([\"game_date\", \"player_id\"])\n",
    "    .rename(columns={\"team\": \"team_y\"}),\n",
    "    left_on=[\"date\", \"name2\"],\n",
    "    right_on=[\"game_date\", \"lower_full_name\"],\n",
    "    how=\"left\",\n",
    ")"
   ]
  },
  {
   "cell_type": "code",
   "execution_count": 204,
   "id": "f531f377-1e79-4b26-a341-cd5ca73f040a",
   "metadata": {},
   "outputs": [],
   "source": [
    "dtd_joined[\"player_id\"] = dtd_joined[\"player_id_x\"].fillna(dtd_joined[\"player_id_y\"])\n",
    "dtd_joined[\"full_name\"] = dtd_joined[\"full_name_x\"].fillna(dtd_joined[\"full_name_y\"])\n",
    "dtd_joined[\"team_match\"] = (\n",
    "    (dtd_joined[\"team\"] == dtd_joined[\"team_x\"])\n",
    "    | (dtd_joined[\"team\"] == dtd_joined[\"team_y\"])\n",
    ").fillna(False)\n",
    "dtd_joined[\"total_same_team\"] = dtd_joined.groupby([\"id\"])[\"team_match\"].transform(sum)\n",
    "dtd_joined[\"total_player_id\"] = dtd_joined.groupby([\"id\"])[\"player_id\"].transform(\n",
    "    \"nunique\"\n",
    ")\n",
    "\n",
    "dtd_joined[\"all_teams_x\"] = dtd_joined[\"all_teams_x\"].apply(\n",
    "    lambda d: d if isinstance(d, list) else []\n",
    ")\n",
    "dtd_joined[\"all_teams_y\"] = dtd_joined[\"all_teams_y\"].apply(\n",
    "    lambda d: d if isinstance(d, list) else []\n",
    ")\n",
    "dtd_joined[\"career_team_match\"] = dtd_joined.apply(\n",
    "    lambda x: x[\"team\"] in x[\"all_teams_x\"], axis=1\n",
    ") | dtd_joined.apply(lambda x: x[\"team\"] in x[\"all_teams_y\"], axis=1)"
   ]
  },
  {
   "cell_type": "code",
   "execution_count": 205,
   "id": "1b898a03-6e80-43c9-9a51-488ff59ea427",
   "metadata": {},
   "outputs": [],
   "source": [
    "exact_match = dtd_joined.query(\"total_player_id==1\")\n",
    "no_match = dtd_joined.query(\"total_player_id==0\")\n",
    "multi_match = dtd_joined.query(\"total_player_id>1\")"
   ]
  },
  {
   "cell_type": "code",
   "execution_count": 210,
   "id": "87bb1c7d-c002-4ea5-ba8f-07c3c5eca577",
   "metadata": {},
   "outputs": [],
   "source": [
    "# exact_match.shape"
   ]
  },
  {
   "cell_type": "code",
   "execution_count": 170,
   "id": "1ff28d4f-cdbb-4adf-b0d1-0f6b7bee3084",
   "metadata": {},
   "outputs": [],
   "source": [
    "# full_date_players.query(\"lower_full_name=='roberto perez' and game_date=='2020-07-28'\")"
   ]
  },
  {
   "cell_type": "code",
   "execution_count": 211,
   "id": "c14ba50f-6d13-42a7-9085-707fd9fa0de3",
   "metadata": {},
   "outputs": [],
   "source": [
    "exact_match_team = (\n",
    "    multi_match.query(\"team_match\")\n",
    "    .groupby(\"id\")\n",
    "    .filter(lambda x: x.player_id.nunique() == 1)\n",
    ")\n",
    "dup_team_matches = (\n",
    "    multi_match.query(\"team_match\")\n",
    "    .groupby(\"id\")\n",
    "    .filter(lambda x: x.player_id.nunique() > 1)\n",
    ")"
   ]
  },
  {
   "cell_type": "code",
   "execution_count": 212,
   "id": "406b72a4-d10d-4f12-86fd-f6a3c065f852",
   "metadata": {},
   "outputs": [],
   "source": [
    "multi_noteam_match = multi_match[\n",
    "    ~multi_match.id.isin(exact_match_team.id) & ~multi_match.team_match\n",
    "]\n",
    "exact_match_career = (\n",
    "    multi_noteam_match.query(\"career_team_match\")\n",
    "    .groupby(\"id\")\n",
    "    .filter(lambda x: x.player_id.nunique() == 1)\n",
    ")\n",
    "dup_career_matches = (\n",
    "    multi_noteam_match.query(\"career_team_match\")\n",
    "    .groupby(\"id\")\n",
    "    .filter(lambda x: x.player_id.nunique() > 1)\n",
    ")\n",
    "no_career_matches = multi_noteam_match.groupby(\"id\").filter(\n",
    "    lambda x: x.career_team_match.sum() == 0\n",
    ")"
   ]
  },
  {
   "cell_type": "code",
   "execution_count": 215,
   "id": "57e5e5a3-df2c-47a4-846e-25665bc241c3",
   "metadata": {},
   "outputs": [],
   "source": [
    "final_dtd = (\n",
    "    pd.concat([exact_match, exact_match_team, exact_match_career])\n",
    "    .drop(\n",
    "        columns=[\n",
    "            \"name\",\n",
    "            \"name2\",\n",
    "            \"game_date_x\",\n",
    "            \"player_id_x\",\n",
    "            \"lower_full_name_x\",\n",
    "            \"full_name_x\",\n",
    "            \"team_x\",\n",
    "            \"all_teams_x\",\n",
    "            \"game_date_y\",\n",
    "            \"player_id_y\",\n",
    "            \"lower_full_name_y\",\n",
    "            \"full_name_y\",\n",
    "            \"team_y\",\n",
    "            \"all_teams_y\",\n",
    "            \"team_match\",\n",
    "            \"total_same_team\",\n",
    "            \"total_player_id\",\n",
    "            \"career_team_match\",\n",
    "        ]\n",
    "    )\n",
    "    .rename(columns={\"full_name\": \"name\"})\n",
    ")\n",
    "final_dtd = final_dtd.sort_values([\"player_id\", \"date\"]).reset_index(drop=True)\n",
    "\n",
    "final_dtd.to_csv(\"../prosports_data/dtd_2012-2021.csv\")"
   ]
  },
  {
   "cell_type": "code",
   "execution_count": 43,
   "id": "ccf5e6ef-918b-4f2e-9ace-b72fe53f57a5",
   "metadata": {},
   "outputs": [],
   "source": [
    "from injury.preprocess.prosports import AlignProsportsMLB\n",
    "\n",
    "apm = AlignProsportsMLB(dtd, players)\n",
    "matched_prosports = apm.run()"
   ]
  },
  {
   "cell_type": "code",
   "execution_count": 44,
   "id": "3dccc85a-948a-49ad-97f2-130bb96c6391",
   "metadata": {},
   "outputs": [],
   "source": [
    "apm = AlignProsportsMLB(dtd, players)"
   ]
  },
  {
   "cell_type": "code",
   "execution_count": 45,
   "id": "50aa3f7d-9bca-4286-bd48-10655254290a",
   "metadata": {},
   "outputs": [],
   "source": [
    "matched_prosports = apm.run()"
   ]
  },
  {
   "cell_type": "markdown",
   "id": "426893d0-93cf-4081-8010-0053d74c7b15",
   "metadata": {},
   "source": [
    "### Combine DTD and ILplayers"
   ]
  },
  {
   "cell_type": "code",
   "execution_count": 216,
   "id": "14f80795-649b-480c-800d-d79b2fce9267",
   "metadata": {},
   "outputs": [
    {
     "name": "stderr",
     "output_type": "stream",
     "text": [
      "/Users/Sam/opt/miniconda3/envs/statcast/lib/python3.7/site-packages/pandas/core/strings.py:2001: UserWarning: This pattern has match groups. To actually get the groups, use str.extract.\n",
      "  return func(self, *args, **kwargs)\n"
     ]
    }
   ],
   "source": [
    "status_changes = (\n",
    "    pd.read_csv(\"statsapi_data/status_changes2012-2021.csv\")\n",
    "    .drop(columns=[\"resolutionDate\", \"id\"])\n",
    "    .rename(columns={\"description\": \"notes\"})\n",
    ")\n",
    "\n",
    "player_names = (\n",
    "    players[[\"player_id\", \"full_name\"]]\n",
    "    .drop_duplicates(\"player_id\")\n",
    "    .rename(columns={\"full_name\": \"name\"})\n",
    ")\n",
    "\n",
    "\n",
    "il_df = status_changes[status_changes.notes.str.contains(r\"the (\\d+)(\\s|-)day\")]\n",
    "il_df = il_df.merge(player_names, how=\"left\")\n",
    "il_df[\"dtd\"] = False"
   ]
  },
  {
   "cell_type": "code",
   "execution_count": 217,
   "id": "feb5e579-3307-404d-99bd-5545cbb89acf",
   "metadata": {},
   "outputs": [],
   "source": [
    "injuries = pd.concat([il_df, final_dtd.drop(columns=[\"id\"])])\n",
    "injuries[\"date\"] = pd.to_datetime(injuries[\"date\"])\n",
    "injuries[\"activated\"] = injuries.notes.str.contains(\"activat\")\n",
    "injuries[\"transfer\"] = injuries.notes.str.contains(\"transfer\")"
   ]
  },
  {
   "cell_type": "code",
   "execution_count": 218,
   "id": "b741741c-17c4-4b9e-b628-03ed32cbd76f",
   "metadata": {},
   "outputs": [],
   "source": [
    "injuries.reset_index(drop=True).to_pickle(\"../data/injuries2012-2021.pkl\")"
   ]
  },
  {
   "cell_type": "code",
   "execution_count": null,
   "id": "d665fc18-c27a-4a45-b996-3e9714760380",
   "metadata": {},
   "outputs": [],
   "source": []
  }
 ],
 "metadata": {
  "kernelspec": {
   "display_name": "injury",
   "language": "python",
   "name": "injury"
  },
  "language_info": {
   "codemirror_mode": {
    "name": "ipython",
    "version": 3
   },
   "file_extension": ".py",
   "mimetype": "text/x-python",
   "name": "python",
   "nbconvert_exporter": "python",
   "pygments_lexer": "ipython3",
   "version": "3.8.13"
  }
 },
 "nbformat": 4,
 "nbformat_minor": 5
}
