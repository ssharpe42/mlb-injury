{
 "cells": [
  {
   "cell_type": "markdown",
   "id": "456298a2-e252-4a62-8661-ff29ac58a5ec",
   "metadata": {},
   "source": [
    "# Scrape and combine IL and DTD data\n",
    "\n",
    "Scrape IL data from MLB stats api, DTD data from Pro Sports. Since Pro Sports only has names and not ids, the injury alignment process is a bit harder and involves narrowing players down by name and the team where the injury occured. "
   ]
  },
  {
   "cell_type": "code",
   "execution_count": null,
   "id": "128e3274-0b13-4991-9b9f-a4e73fe2575e",
   "metadata": {},
   "outputs": [],
   "source": [
    "%reload_ext autoreload\n",
    "%autoreload 2"
   ]
  },
  {
   "cell_type": "code",
   "execution_count": 41,
   "id": "b907f047-a13f-4d01-b18f-28bec1976cb9",
   "metadata": {},
   "outputs": [],
   "source": [
    "import logging\n",
    "import os\n",
    "import pathlib\n",
    "\n",
    "import numpy as np\n",
    "import pandas as pd\n",
    "import requests\n",
    "\n",
    "# logging.basicConfig(level = logging.INFO)\n",
    "pd.options.display.max_columns = 100"
   ]
  },
  {
   "cell_type": "code",
   "execution_count": 42,
   "id": "a0a4de94-9663-4e6b-9cbf-fe8e510ddadb",
   "metadata": {},
   "outputs": [],
   "source": [
    "from injury.scrape.prosports import scrape_dtd_data\n",
    "from injury.scrape.statsapi import scrape_il_data"
   ]
  },
  {
   "cell_type": "markdown",
   "id": "3c48da9a-dd56-49c1-92de-34f44fe6a5da",
   "metadata": {},
   "source": [
    "### Query IL Data"
   ]
  },
  {
   "cell_type": "code",
   "execution_count": 128,
   "id": "7a5d2bc6-0428-4e2e-8a50-87fa78257da5",
   "metadata": {
    "tags": []
   },
   "outputs": [
    {
     "name": "stderr",
     "output_type": "stream",
     "text": [
      "INFO:injury.scrape.statsapi:Scraping IL data for 2012\n",
      "INFO:injury.scrape.statsapi:Scraping IL data for 2013\n",
      "INFO:injury.scrape.statsapi:Scraping IL data for 2014\n",
      "INFO:injury.scrape.statsapi:Scraping IL data for 2015\n",
      "INFO:injury.scrape.statsapi:Scraping IL data for 2016\n",
      "INFO:injury.scrape.statsapi:Scraping IL data for 2017\n",
      "INFO:injury.scrape.statsapi:Scraping IL data for 2018\n",
      "INFO:injury.scrape.statsapi:Scraping IL data for 2019\n",
      "INFO:injury.scrape.statsapi:Scraping IL data for 2020\n",
      "INFO:injury.scrape.statsapi:Scraping IL data for 2021\n",
      "INFO:injury.scrape.statsapi:Scraping IL data for 2022\n"
     ]
    }
   ],
   "source": [
    "start, end = 2012, 2022\n",
    "status_changes, teams = scrape_il_data(start, end + 1)"
   ]
  },
  {
   "cell_type": "code",
   "execution_count": 130,
   "id": "5c4ab8f1-f95e-417b-849a-45cdef954867",
   "metadata": {},
   "outputs": [],
   "source": [
    "if not os.path.exists(\"statsapi_data/\"):\n",
    "    os.mkdir(\"statsapi_data/\")\n",
    "status_changes.to_csv(f\"statsapi_data/status_changes{start}-{end}.csv\", index=False)\n",
    "teams.to_csv(f\"statsapi_data/teams{start}-{end}.csv\", index=False)"
   ]
  },
  {
   "cell_type": "markdown",
   "id": "0f15894a-1ab2-4471-82e1-e27e2dad849f",
   "metadata": {},
   "source": [
    "### Query DTD Data\n",
    "\n",
    "Takes a while so saves each year separately"
   ]
  },
  {
   "cell_type": "code",
   "execution_count": 131,
   "id": "d9154c5e-9816-4e12-ad5f-c407d3876c65",
   "metadata": {},
   "outputs": [
    {
     "name": "stderr",
     "output_type": "stream",
     "text": [
      "INFO:injury.scrape.prosports:Scraping DTD data for 2022\n"
     ]
    }
   ],
   "source": [
    "scrape_dtd_data(2022, 2022 + 1, path=\"prosports_data/\")"
   ]
  },
  {
   "cell_type": "markdown",
   "id": "7506ec13-442b-4efe-a163-4a1363c76aee",
   "metadata": {},
   "source": [
    "### Clean DTD Data"
   ]
  },
  {
   "cell_type": "code",
   "execution_count": 132,
   "id": "90cf7bd8-f08b-407d-9295-7c96a61b8e54",
   "metadata": {},
   "outputs": [],
   "source": [
    "from injury.preprocess.prosports import ProsportsCleaner"
   ]
  },
  {
   "cell_type": "code",
   "execution_count": 133,
   "id": "0f3a9a78-20cd-4b82-b0ee-0efa4653dcf0",
   "metadata": {},
   "outputs": [],
   "source": [
    "# Read data\n",
    "prosports = pd.concat(\n",
    "    [pd.read_csv(f) for f in pathlib.Path(\"prosports_data\").glob(\"prosports_*.csv\")]\n",
    ")\n",
    "teams = pd.read_csv(f\"statsapi_data/teams{start}-{end}.csv\")"
   ]
  },
  {
   "cell_type": "code",
   "execution_count": 134,
   "id": "b0cb3388-a3f6-4093-9e16-48905a58740c",
   "metadata": {
    "collapsed": true,
    "jupyter": {
     "outputs_hidden": true
    },
    "tags": []
   },
   "outputs": [
    {
     "name": "stderr",
     "output_type": "stream",
     "text": [
      "/Users/Sam/Desktop/Projects/injury/injury/preprocess/prosports.py:59: UserWarning: This pattern is interpreted as a regular expression, and has match groups. To actually get the groups, use str.extract.\n",
      "  has_abbrev = prosports.name.str.contains(\"([A-Z]|r)\\.\")\n",
      "/Users/Sam/Desktop/Projects/injury/injury/preprocess/prosports.py:65: SettingWithCopyWarning: \n",
      "A value is trying to be set on a copy of a slice from a DataFrame.\n",
      "Try using .loc[row_indexer,col_indexer] = value instead\n",
      "\n",
      "See the caveats in the documentation: https://pandas.pydata.org/pandas-docs/stable/user_guide/indexing.html#returning-a-view-versus-a-copy\n",
      "  prosports[\"name\"] = remove_accents(prosports[\"name\"]).str.lower()\n",
      "/Users/Sam/Desktop/Projects/injury/injury/preprocess/prosports.py:68: SettingWithCopyWarning: \n",
      "A value is trying to be set on a copy of a slice from a DataFrame.\n",
      "Try using .loc[row_indexer,col_indexer] = value instead\n",
      "\n",
      "See the caveats in the documentation: https://pandas.pydata.org/pandas-docs/stable/user_guide/indexing.html#returning-a-view-versus-a-copy\n",
      "  prosports[[\"name\", \"name2\"]] = prosports[\"name\"].str.split(\n",
      "/Users/Sam/Desktop/Projects/injury/injury/preprocess/prosports.py:68: SettingWithCopyWarning: \n",
      "A value is trying to be set on a copy of a slice from a DataFrame.\n",
      "Try using .loc[row_indexer,col_indexer] = value instead\n",
      "\n",
      "See the caveats in the documentation: https://pandas.pydata.org/pandas-docs/stable/user_guide/indexing.html#returning-a-view-versus-a-copy\n",
      "  prosports[[\"name\", \"name2\"]] = prosports[\"name\"].str.split(\n",
      "/Users/Sam/Desktop/Projects/injury/injury/preprocess/prosports.py:71: SettingWithCopyWarning: \n",
      "A value is trying to be set on a copy of a slice from a DataFrame.\n",
      "Try using .loc[row_indexer,col_indexer] = value instead\n",
      "\n",
      "See the caveats in the documentation: https://pandas.pydata.org/pandas-docs/stable/user_guide/indexing.html#returning-a-view-versus-a-copy\n",
      "  prosports[[\"name\", \"name2\"]] = prosports[[\"name\", \"name2\"]].apply(\n"
     ]
    }
   ],
   "source": [
    "pc = ProsportsCleaner(prosports, teams)\n",
    "dtd = pc.clean()"
   ]
  },
  {
   "cell_type": "markdown",
   "id": "7f2c5519-40e7-48b5-bd41-0a9abc5e22f4",
   "metadata": {},
   "source": [
    "### Align DTD Data to MLB ids"
   ]
  },
  {
   "cell_type": "code",
   "execution_count": 135,
   "id": "e30d74fb-cdae-46e4-994b-5d92980a7da4",
   "metadata": {},
   "outputs": [],
   "source": [
    "from injury.preprocess.prosports import AlignProsportsMLB"
   ]
  },
  {
   "cell_type": "markdown",
   "id": "0534a120-6a54-45ac-b507-5eb60eb64ff1",
   "metadata": {},
   "source": [
    "I get player data through my own statcast database in the cell below. You can get this information from the statsapi or baseball savant. I have included the data I used in `../data`"
   ]
  },
  {
   "cell_type": "code",
   "execution_count": 136,
   "id": "1893600b-ccc7-4990-9013-0cc638112b45",
   "metadata": {},
   "outputs": [
    {
     "name": "stderr",
     "output_type": "stream",
     "text": [
      "/Users/Sam/opt/miniconda3/envs/injury/lib/python3.8/site-packages/pandas/io/sql.py:761: UserWarning: pandas only support SQLAlchemy connectable(engine/connection) ordatabase string URI or sqlite3 DBAPI2 connectionother DBAPI2 objects are not tested, please consider using SQLAlchemy\n",
      "  warnings.warn(\n"
     ]
    }
   ],
   "source": [
    "import statcast\n",
    "db = statcast.db.Postgres()\n",
    "players = db.query(\"player.sql\", query_params={\"min_year\": 2012, \"max_year\": 2022})\n",
    "players.to_parquet(\"../data/players.parquet\")"
   ]
  },
  {
   "cell_type": "code",
   "execution_count": 137,
   "id": "3182880e-1755-4f93-b149-ffcba5560db1",
   "metadata": {},
   "outputs": [],
   "source": [
    "players = pd.read_parquet(\"../data/players.parquet\")\n",
    "apm = AlignProsportsMLB(dtd, players)\n",
    "matched_dtd = apm.run()"
   ]
  },
  {
   "cell_type": "code",
   "execution_count": 140,
   "id": "78f4a249-3551-452f-b5e3-f0d28ab140b3",
   "metadata": {},
   "outputs": [],
   "source": [
    "# matched_dtd.shape"
   ]
  },
  {
   "cell_type": "markdown",
   "id": "33466f32-6b0d-4cde-95ee-4cf85b6a0cbd",
   "metadata": {},
   "source": [
    "### Combine IL and DTD"
   ]
  },
  {
   "cell_type": "code",
   "execution_count": 144,
   "id": "d3e17b97-a307-4557-adad-4db5a8abcbad",
   "metadata": {},
   "outputs": [
    {
     "name": "stderr",
     "output_type": "stream",
     "text": [
      "/var/folders/6y/ttc306bd5rlc_xrt71tjyg7r0000gn/T/ipykernel_45553/2746471642.py:10: UserWarning: This pattern is interpreted as a regular expression, and has match groups. To actually get the groups, use str.extract.\n",
      "  il_df = status_changes[status_changes.notes.str.contains(r'the (\\d+)(\\s|-)day')]\n"
     ]
    }
   ],
   "source": [
    "status_changes = (\n",
    "    pd.read_csv(f\"statsapi_data/status_changes{start}-{end}.csv\")\n",
    "    .drop(columns=[\"resolutionDate\", \"id\"])\n",
    "    .rename(columns={\"description\": \"notes\"})\n",
    ")\n",
    "\n",
    "player_names = (\n",
    "    players[[\"player_id\", \"full_name\"]]\n",
    "    .drop_duplicates(\"player_id\")\n",
    "    .rename(columns={\"full_name\": \"name\"})\n",
    ")\n",
    "\n",
    "\n",
    "il_df = status_changes[status_changes.notes.str.contains(r\"the (\\d+)(\\s|-)day\")]\n",
    "il_df = il_df.merge(player_names, how=\"left\")\n",
    "il_df[\"dtd\"] = False\n",
    "matched_dtd[\"il_days\"] = 0"
   ]
  },
  {
   "cell_type": "code",
   "execution_count": 145,
   "id": "ca23bf62-11db-4ba1-8fd7-ebf671e4da51",
   "metadata": {},
   "outputs": [],
   "source": [
    "injuries = pd.concat([il_df, matched_dtd.drop(columns=[\"id\"])])\n",
    "injuries[\"date\"] = pd.to_datetime(injuries[\"date\"])\n",
    "injuries[\"activated\"] = injuries.notes.str.contains(\"activat\")\n",
    "injuries[\"transfer\"] = injuries.notes.str.contains(\"transfer\")"
   ]
  },
  {
   "cell_type": "code",
   "execution_count": 146,
   "id": "28ab5a91-7270-45e2-a80f-75da29a40863",
   "metadata": {},
   "outputs": [],
   "source": [
    "injuries.reset_index(drop=True).to_parquet(f\"../data/injuries{start}-{end}.parquet\")"
   ]
  }
 ],
 "metadata": {
  "kernelspec": {
   "display_name": "injury",
   "language": "python",
   "name": "injury"
  },
  "language_info": {
   "codemirror_mode": {
    "name": "ipython",
    "version": 3
   },
   "file_extension": ".py",
   "mimetype": "text/x-python",
   "name": "python",
   "nbconvert_exporter": "python",
   "pygments_lexer": "ipython3",
   "version": "3.8.13"
  }
 },
 "nbformat": 4,
 "nbformat_minor": 5
}
