{
 "cells": [
  {
   "cell_type": "markdown",
   "id": "745a4050-9f89-4c76-b8b0-a242c9a45367",
   "metadata": {},
   "source": []
  },
  {
   "cell_type": "code",
   "execution_count": null,
   "id": "3538adf3-a44a-4437-9ebb-75ab0e100cd3",
   "metadata": {},
   "outputs": [],
   "source": [
    "%reload_ext autoreload\n",
    "%autoreload 2"
   ]
  },
  {
   "cell_type": "code",
   "execution_count": 118,
   "id": "a6e573eb-3a6c-4728-8b00-16ed5bdafaba",
   "metadata": {},
   "outputs": [],
   "source": [
    "import numpy as np\n",
    "import pandas as pd\n",
    "import requests\n",
    "import statcast\n",
    "\n",
    "from injury.preprocess.categorization import InjuryCategorizer\n",
    "from injury.preprocess.injury_events import (InjuryEvents,\n",
    "                                             add_cols_player_games,\n",
    "                                             cum_season_days)\n",
    "from injury.preprocess.injury_map import injury_priority\n",
    "from injury.preprocess.location_map import location_priority\n",
    "\n",
    "pd.options.display.max_columns = 100"
   ]
  },
  {
   "cell_type": "markdown",
   "id": "e9e2cbf8-259f-4bf2-be00-810f5a52ca60",
   "metadata": {},
   "source": [
    "### Injury Categorization & Games"
   ]
  },
  {
   "cell_type": "code",
   "execution_count": 165,
   "id": "f9812b71-044a-4536-aff9-e6348239754d",
   "metadata": {},
   "outputs": [],
   "source": [
    "injuries = pd.read_parquet(\"../data/injuries2012-2022.parquet\").sort_values(\"date\")\n",
    "players = pd.read_parquet(\"../data/players.parquet\").pipe(add_cols_player_games)\n",
    "season_days = cum_season_days(players[players[\"game_type\"] == \"R\"])"
   ]
  },
  {
   "cell_type": "code",
   "execution_count": 166,
   "id": "c88521bb-35e7-44e0-9ad6-ac6170555057",
   "metadata": {},
   "outputs": [],
   "source": [
    "qualified_players = (\n",
    "    players[players[\"game_type\"] == \"R\"]\n",
    "    .groupby(\"player_id\", as_index=False)\n",
    "    .size()\n",
    "    .query(\"size>=162\")[\"player_id\"]\n",
    ")"
   ]
  },
  {
   "cell_type": "code",
   "execution_count": 148,
   "id": "39579857-011d-4ae8-a735-8759ebf2eaba",
   "metadata": {},
   "outputs": [
    {
     "data": {
      "text/plain": [
       "1267"
      ]
     },
     "execution_count": 148,
     "metadata": {},
     "output_type": "execute_result"
    }
   ],
   "source": [
    "len(qualified_players)"
   ]
  },
  {
   "cell_type": "code",
   "execution_count": 167,
   "id": "b47dcf59-40e7-46ff-be11-11311dfa5d76",
   "metadata": {},
   "outputs": [],
   "source": [
    "inj_cat = InjuryCategorizer()\n",
    "data = inj_cat.process(injury_data=injuries[injuries.player_id.isin(qualified_players)])"
   ]
  },
  {
   "cell_type": "markdown",
   "id": "1a1991a9-2cfb-4c8e-8566-1336e30a8ea9",
   "metadata": {},
   "source": [
    "### Games and Injury Length"
   ]
  },
  {
   "cell_type": "code",
   "execution_count": 310,
   "id": "3049a361-07f7-472e-af07-c269193f2cc0",
   "metadata": {},
   "outputs": [],
   "source": [
    "from injury.preprocess.injury_events import InjuryEvents"
   ]
  },
  {
   "cell_type": "code",
   "execution_count": 311,
   "id": "7a8ff152-c720-4031-8d13-3a2389970e99",
   "metadata": {},
   "outputs": [],
   "source": [
    "players = pd.read_parquet(\"../data/players.parquet\").query(\"game_type=='R'\")\n",
    "ie = InjuryEvents()"
   ]
  },
  {
   "cell_type": "code",
   "execution_count": 312,
   "id": "afcbf9de-4a24-41d3-877b-00c579c1e186",
   "metadata": {
    "tags": []
   },
   "outputs": [
    {
     "name": "stderr",
     "output_type": "stream",
     "text": [
      "/Users/Sam/Desktop/Projects/injury/injury/preprocess/injury_events.py:384: SettingWithCopyWarning: \n",
      "A value is trying to be set on a copy of a slice from a DataFrame.\n",
      "Try using .loc[row_indexer,col_indexer] = value instead\n",
      "\n",
      "See the caveats in the documentation: https://pandas.pydata.org/pandas-docs/stable/user_guide/indexing.html#returning-a-view-versus-a-copy\n",
      "  data[\"dt\"] = (\n"
     ]
    }
   ],
   "source": [
    "df = ie.process(\n",
    "    data[data.player_id.isin(qualified_players)],\n",
    "    players[players.player_id.isin(qualified_players)].drop(columns=[\"position\"]),\n",
    ")"
   ]
  },
  {
   "cell_type": "code",
   "execution_count": 316,
   "id": "ddf2f37d-172f-4ee6-89ac-89cfcb307fe8",
   "metadata": {},
   "outputs": [],
   "source": [
    "df = df.merge(players[[\"player_id\", \"position\"]].drop_duplicates(), how=\"left\")"
   ]
  },
  {
   "cell_type": "code",
   "execution_count": null,
   "id": "da411582-c866-4ced-89bb-822ecff6b81f",
   "metadata": {},
   "outputs": [],
   "source": [
    "df.to_parquet(\"../data/injury_final.parquet\")"
   ]
  }
 ],
 "metadata": {
  "kernelspec": {
   "display_name": "injury",
   "language": "python",
   "name": "injury"
  },
  "language_info": {
   "codemirror_mode": {
    "name": "ipython",
    "version": 3
   },
   "file_extension": ".py",
   "mimetype": "text/x-python",
   "name": "python",
   "nbconvert_exporter": "python",
   "pygments_lexer": "ipython3",
   "version": "3.8.13"
  }
 },
 "nbformat": 4,
 "nbformat_minor": 5
}
